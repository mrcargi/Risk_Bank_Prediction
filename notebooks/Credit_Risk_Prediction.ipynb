{
 "cells": [
  {
   "cell_type": "markdown",
   "id": "90ffa3c1-5621-490b-8e1c-8bc68351e19f",
   "metadata": {},
   "source": [
    "## Credit Risk Prediction Project \n"
   ]
  },
  {
   "cell_type": "markdown",
   "id": "4b633f6d-29f5-49ad-abf6-d1394c846608",
   "metadata": {},
   "source": [
    "### Content table \n",
    "- 1. Introduction.\n",
    "- 2. Data Exploration.\n",
    "- 3. Getting  the dataset and data general analysis.\n",
    "- 4. Project Objectives.\n",
    "- 5. Data importation and classification.\n",
    "- 6. Models implementation.\n",
    "- 7. Models Evaluation.\n",
    "- 8. Conclusion. \n"
   ]
  },
  {
   "cell_type": "markdown",
   "id": "92a86385-d288-4eea-b860-d38fed9f5748",
   "metadata": {},
   "source": [
    "### Introduction\n",
    "\n",
    "This project develop a predictive model for credit risk assessment using **\"german.data\"** dataset from UCI Machine Learning Repository. Credit risk prediction is crucial for financial institution to determine if  the users will default on their loan obligations. Accurate prediction can help to minimize financial losses and making informed lending decisions."
   ]
  },
  {
   "cell_type": "markdown",
   "id": "b18caabf-eaf7-4b2c-a0c5-b942b464939d",
   "metadata": {},
   "source": [
    "### Data Exploration\n",
    "\n",
    "The **\"german.data\"** dataset contains information about 1000 loan applicants. Each Applicant is described by 20 attributes that includes various socio-demographic and financial factors. The target variable indicates whether the applicant is consider a good o bad credit risk.\n",
    "\n",
    "Dataset structure: \n",
    "- CheckingAccountStatus: Status of the checking account (e.g., no checking account, < 0 DM, 0 <= x < 200 DM, >= 200 DM)\n",
    "- DurationInMonths: Duration of the credit in months\n",
    "- CreditHistory: Status of the applicant's credit history (e.g., no credits/all paid, existing paid, critical/other existing credit)\n",
    "- Purpose: Purpose of the credit (e.g., car, education, furniture/equipment)\n",
    "- CreditAmount: Amount of credit requested\n",
    "- SavingsAccountBonds: Status of savings accounts/bonds (e.g., < 100 DM, 100 <= x < 500 DM, >= 1000 DM)\n",
    "- Employment: Present employment since (e.g., unemployed, < 1 year, >= 7 years)\n",
    "- InstallmentRatePercentage: Installment rate in percentage of disposable income\n",
    "- PersonalStatusSex: Personal status and sex (e.g., male single, female divorced/separated/married)\n",
    "- OtherDebtorsGuarantors: Other debtors/guarantors (e.g., none, co-applicant, guarantor)\n",
    "- ResidenceSince: Number of years the applicant has lived in the current residence\n",
    "- Property: Nature of property owned (e.g., real estate, if not rent, if not own, unknown/no property)\n",
    "- Age: Age of the applicant in years\n",
    "- OtherInstallmentPlans: Other installment plans (e.g., bank, stores, none)\n",
    "- Housing: Housing situation (e.g., rent, own, for free)\n",
    "- NumberOfExistingCredits: Number of existing credits at this bank\n",
    "- Job: Applicant's job (e.g., unemployed, unskilled non-resident, skilled, highly qualified)\n",
    "- PeopleUnderMaintenance: Number of people being maintained by the applicant\n",
    "- Telephone: Whether the applicant has a telephone (e.g., none, yes)\n",
    "- ForeignWorker: Whether the applicant is a foreign worker (e.g., yes, no)\n",
    "- CreditRisk: The target variable indicating credit risk (1 for good, 2 for bad)\n",
    "\n",
    "\n",
    "for more information about  variable classification , you can visit [UCI Machine Learning Repository - Statlog (German Credit Data)](https://archive.ics.uci.edu/dataset/144/statlog+german+credit+data)."
   ]
  },
  {
   "cell_type": "markdown",
   "id": "8b870440-418c-4bb0-b50f-770a865402a4",
   "metadata": {},
   "source": [
    "### Project Objectives \n",
    "1. **Data Preprocessing** : Clean and preprocess  the dataset to handle missing values, encodes categorical variables, and scale numerical features\n",
    "2. **Model Training**: Train multiple machine learning models to predict credit risk.\n",
    "    - Random Forest Classifier\n",
    "    - Support Vector Machine(SVM) Classifier\n",
    "    - Naive Bayes Classifier\n",
    "3. **Model Evaluation**: Evaluate the performance of the trained models using appropriate metrics.\n",
    "4. **API Development** : Develop a FastAPI application to serve the trained models and provide credit risk predictions\n",
    "5. **Documentation** : Use Jupyter Notebook to document the entire process "
   ]
  },
  {
   "cell_type": "markdown",
   "id": "b24ac359-81fb-4a65-9eb0-437f535e4a67",
   "metadata": {},
   "source": [
    "### Data importation and classification\n",
    "\n",
    "In this section, we import the essential libraries for the project, including Pandas, Matplotlib, Sklearn, and NumPy, along with the specific modules required from each library."
   ]
  },
  {
   "cell_type": "code",
   "execution_count": 2,
   "id": "5ba37eea-a377-43d7-a3a1-ad5265686887",
   "metadata": {},
   "outputs": [
    {
     "name": "stdout",
     "output_type": "stream",
     "text": [
      "Defaulting to user installation because normal site-packages is not writeable\n",
      "Requirement already satisfied: numpy in c:\\programdata\\anaconda3\\lib\\site-packages (1.26.4)\n",
      "Defaulting to user installation because normal site-packages is not writeable\n",
      "Requirement already satisfied: pandas in c:\\programdata\\anaconda3\\lib\\site-packages (2.2.2)\n",
      "Requirement already satisfied: numpy>=1.26.0 in c:\\programdata\\anaconda3\\lib\\site-packages (from pandas) (1.26.4)\n",
      "Requirement already satisfied: python-dateutil>=2.8.2 in c:\\programdata\\anaconda3\\lib\\site-packages (from pandas) (2.9.0.post0)\n",
      "Requirement already satisfied: pytz>=2020.1 in c:\\programdata\\anaconda3\\lib\\site-packages (from pandas) (2024.1)\n",
      "Requirement already satisfied: tzdata>=2022.7 in c:\\programdata\\anaconda3\\lib\\site-packages (from pandas) (2023.3)\n",
      "Requirement already satisfied: six>=1.5 in c:\\programdata\\anaconda3\\lib\\site-packages (from python-dateutil>=2.8.2->pandas) (1.16.0)\n",
      "Defaulting to user installation because normal site-packages is not writeable\n",
      "Requirement already satisfied: matplotlib in c:\\programdata\\anaconda3\\lib\\site-packages (3.8.4)\n",
      "Requirement already satisfied: contourpy>=1.0.1 in c:\\programdata\\anaconda3\\lib\\site-packages (from matplotlib) (1.2.0)\n",
      "Requirement already satisfied: cycler>=0.10 in c:\\programdata\\anaconda3\\lib\\site-packages (from matplotlib) (0.11.0)\n",
      "Requirement already satisfied: fonttools>=4.22.0 in c:\\programdata\\anaconda3\\lib\\site-packages (from matplotlib) (4.51.0)\n",
      "Requirement already satisfied: kiwisolver>=1.3.1 in c:\\programdata\\anaconda3\\lib\\site-packages (from matplotlib) (1.4.4)\n",
      "Requirement already satisfied: numpy>=1.21 in c:\\programdata\\anaconda3\\lib\\site-packages (from matplotlib) (1.26.4)\n",
      "Requirement already satisfied: packaging>=20.0 in c:\\programdata\\anaconda3\\lib\\site-packages (from matplotlib) (23.2)\n",
      "Requirement already satisfied: pillow>=8 in c:\\programdata\\anaconda3\\lib\\site-packages (from matplotlib) (10.3.0)\n",
      "Requirement already satisfied: pyparsing>=2.3.1 in c:\\programdata\\anaconda3\\lib\\site-packages (from matplotlib) (3.0.9)\n",
      "Requirement already satisfied: python-dateutil>=2.7 in c:\\programdata\\anaconda3\\lib\\site-packages (from matplotlib) (2.9.0.post0)\n",
      "Requirement already satisfied: six>=1.5 in c:\\programdata\\anaconda3\\lib\\site-packages (from python-dateutil>=2.7->matplotlib) (1.16.0)\n",
      "Defaulting to user installation because normal site-packages is not writeable\n",
      "Requirement already satisfied: scikit-learn in c:\\programdata\\anaconda3\\lib\\site-packages (1.4.2)\n",
      "Requirement already satisfied: numpy>=1.19.5 in c:\\programdata\\anaconda3\\lib\\site-packages (from scikit-learn) (1.26.4)\n",
      "Requirement already satisfied: scipy>=1.6.0 in c:\\programdata\\anaconda3\\lib\\site-packages (from scikit-learn) (1.13.1)\n",
      "Requirement already satisfied: joblib>=1.2.0 in c:\\programdata\\anaconda3\\lib\\site-packages (from scikit-learn) (1.4.2)\n",
      "Requirement already satisfied: threadpoolctl>=2.0.0 in c:\\programdata\\anaconda3\\lib\\site-packages (from scikit-learn) (2.2.0)\n"
     ]
    }
   ],
   "source": [
    "!pip install numpy \n",
    "!pip install pandas \n",
    "!pip install matplotlib\n",
    "!pip install scikit-learn"
   ]
  },
  {
   "cell_type": "code",
   "execution_count": 3,
   "id": "0126295a-6914-440b-b168-f9dc142d4606",
   "metadata": {},
   "outputs": [],
   "source": [
    "import numpy as np \n",
    "import pandas as pd \n",
    "import matplotlib.pyplot as plt\n",
    "from sklearn.model_selection import train_test_split\n",
    "from sklearn.preprocessing import OneHotEncoder,LabelEncoder,StandardScaler\n",
    "from sklearn.compose import ColumnTransformer\n",
    "from sklearn.ensemble import RandomForestClassifier\n",
    "from sklearn.svm import SVC\n",
    "from sklearn.naive_bayes import GaussianNB\n",
    "from sklearn.metrics import accuracy_score , confusion_matrix, classification_report, precision_score , recall_score, f1_score , roc_auc_score, roc_curve\n"
   ]
  },
  {
   "cell_type": "code",
   "execution_count": 4,
   "id": "67526d9a-857a-4df4-a6f4-409121a4cc7c",
   "metadata": {},
   "outputs": [],
   "source": [
    "column_names = [\n",
    "    'CheckingAccountStatus', 'DurationInMonths', 'CreditHistory', 'Purpose', 'CreditAmount',\n",
    "    'SavingsAccountBonds', 'Employment', 'InstallmentRatePercentage', 'PersonalStatusSex',\n",
    "    'OtherDebtorsGuarantors', 'ResidenceSince', 'Property', 'Age', 'OtherInstallmentPlans',\n",
    "    'Housing', 'NumberOfExistingCredits', 'Job', 'PeopleUnderMaintenance', 'Telephone', 'ForeignWorker', 'CreditRisk'\n",
    "]\n",
    "\n",
    "data = pd.read_csv('german.data', sep=' ', header=None, names=column_names, na_values='?')\n",
    "\n",
    "\n",
    "data.dropna(inplace = True)\n"
   ]
  },
  {
   "cell_type": "markdown",
   "id": "5ec1f377-fca3-421f-a2ca-e53ecf7e5737",
   "metadata": {},
   "source": [
    "We start by defining the column names for the dataset to make it easier to work with. We then read the dataset using pandas, specifying the column names and treating ? as NaN values. Finally, we remove any rows with missing values"
   ]
  },
  {
   "cell_type": "markdown",
   "id": "c4e80e6d-c8d9-4ce6-a0f0-9879187bd7f8",
   "metadata": {},
   "source": [
    "\n",
    "In this section, we prepare the dataset for model training. First, we define the variables \"X\" and \"y\". The variable \"X\" includes all the columns except the last one because that column contains the values we want to predict, which is represented by \"y\""
   ]
  },
  {
   "cell_type": "code",
   "execution_count": 5,
   "id": "0c8e18d6-6838-4404-a5d1-f418d7e1b79c",
   "metadata": {},
   "outputs": [],
   "source": [
    "X = data.iloc[:, :-1]\n",
    "y = data.iloc[:,-1]\n"
   ]
  },
  {
   "cell_type": "markdown",
   "id": "526a56da-0628-498b-ae9a-7a39f5e8756b",
   "metadata": {},
   "source": [
    "Then, we transform y because it might be categorical. We adjust the values so that 0 represents good credit risk and 1 represents bad credit risk."
   ]
  },
  {
   "cell_type": "code",
   "execution_count": 6,
   "id": "52041292-ee88-4793-a9ac-8cea7a1c72e5",
   "metadata": {},
   "outputs": [],
   "source": [
    "y = y - 1 "
   ]
  },
  {
   "cell_type": "markdown",
   "id": "832824fd-c842-47c3-ac0e-d28373842699",
   "metadata": {},
   "source": [
    "We separate the data in training set and test set using \"train_test_split\" from sklearn library "
   ]
  },
  {
   "cell_type": "code",
   "execution_count": 7,
   "id": "e55a28a1-8899-4508-a406-23a971ea4f1b",
   "metadata": {},
   "outputs": [],
   "source": [
    "X_train ,X_test ,y_train, y_test = train_test_split(X,y,test_size=0.2 , random_state=0)"
   ]
  },
  {
   "cell_type": "markdown",
   "id": "6b6c1efe-7616-42ce-81dd-ea36d7287813",
   "metadata": {},
   "source": [
    "Then, we group the features into categorical and numerical variables to apply the appropriate transformer:"
   ]
  },
  {
   "cell_type": "code",
   "execution_count": 8,
   "id": "08a35a59-9697-4768-b6a4-f2f9fea29d38",
   "metadata": {},
   "outputs": [],
   "source": [
    "categorical_features = [\n",
    "    'CheckingAccountStatus', 'CreditHistory', 'Purpose', 'SavingsAccountBonds', 'Employment',\n",
    "    'PersonalStatusSex', 'OtherDebtorsGuarantors', 'Property', 'OtherInstallmentPlans',\n",
    "    'Housing', 'Job', 'Telephone', 'ForeignWorker'\n",
    "]\n",
    "numeric_features = [\n",
    "    'DurationInMonths', 'CreditAmount', 'InstallmentRatePercentage', 'ResidenceSince', 'Age', 'NumberOfExistingCredits', 'PeopleUnderMaintenance'\n",
    "]\n"
   ]
  },
  {
   "cell_type": "markdown",
   "id": "4bb81994-9bd9-49ea-aa64-2426f9347e50",
   "metadata": {},
   "source": [
    "Next, we create the column transformer:"
   ]
  },
  {
   "cell_type": "code",
   "execution_count": 9,
   "id": "bc463373-9622-43ad-9fd2-1424052499cb",
   "metadata": {},
   "outputs": [],
   "source": [
    "preprocessor = ColumnTransformer(\n",
    "    transformers=[\n",
    "        ('num', StandardScaler(), numeric_features),\n",
    "        ('cat', OneHotEncoder(), categorical_features)\n",
    "    ]\n",
    ")\n"
   ]
  },
  {
   "cell_type": "markdown",
   "id": "0f9e5159-1335-4741-b0c9-f974ef51ed1a",
   "metadata": {},
   "source": [
    "After that, we adjust each preprocessor in X_train and X_test "
   ]
  },
  {
   "cell_type": "code",
   "execution_count": 10,
   "id": "e8077e10-428d-4300-9424-4c855b6d9c69",
   "metadata": {},
   "outputs": [],
   "source": [
    "# Adjust y transform the train data \n",
    "X_train = preprocessor.fit_transform(X_train)\n",
    "\n",
    "# Transform the test data \n",
    "X_test = preprocessor.transform(X_test)\n",
    "\n",
    "\n"
   ]
  },
  {
   "cell_type": "markdown",
   "id": "5e3cd87f-e135-4a0c-93e3-43942b5456fd",
   "metadata": {},
   "source": [
    "We define and train multiple models to compare their performance. The models we use are:"
   ]
  },
  {
   "cell_type": "code",
   "execution_count": 11,
   "id": "e8a2a6b0-c4a7-4212-9ccb-ec6a2a833dc6",
   "metadata": {},
   "outputs": [],
   "source": [
    "#We call each model \n",
    "models  = [('Random Forest ',RandomForestClassifier()),\n",
    "           ('Suport Vector Machine',SVC(kernel='rbf',random_state=0, probability = True)),\n",
    "           ('Naive Bayes ',GaussianNB())]\n",
    "\n"
   ]
  },
  {
   "cell_type": "markdown",
   "id": "86b3a463-5f02-4a02-a895-1221b95cd237",
   "metadata": {},
   "source": [
    "Next, we initialize an empty dictionary to store the results of each model:"
   ]
  },
  {
   "cell_type": "code",
   "execution_count": 12,
   "id": "768d2807-ce24-4069-948a-a305e682c8f8",
   "metadata": {},
   "outputs": [],
   "source": [
    "results = {}"
   ]
  },
  {
   "cell_type": "markdown",
   "id": "3dfa5664-ef7b-4d98-a004-41a40c4e0025",
   "metadata": {},
   "source": [
    "We then iterate over each model, train it, and evaluate its performance using various metrics:"
   ]
  },
  {
   "cell_type": "code",
   "execution_count": 13,
   "id": "de29a3ee-36a8-4482-ada3-a16d88b2154c",
   "metadata": {},
   "outputs": [],
   "source": [
    "#Create a \"for\" to call and adjust each model \n",
    "\n",
    "for name, model in models :\n",
    "    model.fit(X_train, y_train)\n",
    "    y_pred = model.predict(X_test)\n",
    "    y_proba = model.predict_proba(X_test)[:,1] if hasattr(model, 'predict_proba') else None\n",
    "\n",
    "    results[name] = {\n",
    "        'Accuracy': accuracy_score(y_test, y_pred),\n",
    "        'Precision': precision_score(y_test, y_pred),\n",
    "        'Recall': recall_score(y_test, y_pred),\n",
    "        'F1': f1_score(y_test, y_pred),\n",
    "        'ROC-AUC': roc_auc_score(y_test, y_pred) if y_proba is not None else None,\n",
    "        'confusion matrix':confusion_matrix(y_test, y_pred)\n",
    "        \n",
    "        \n",
    "        }\n"
   ]
  },
  {
   "cell_type": "markdown",
   "id": "73ca2873-de70-4c09-ab2b-b1333f6af9ae",
   "metadata": {},
   "source": [
    "This code block trains each model on the training set, makes predictions on the test set, and calculates various performance metrics such as accuracy, precision, recall, F1 score, ROC-AUC score, and confusion matrix. The results are then stored in the results dictionary for easy comparison."
   ]
  },
  {
   "cell_type": "markdown",
   "id": "e9fa2d9b-c036-4e88-b132-bd6f35c51e0f",
   "metadata": {},
   "source": [
    "We then print the performance metrics for each model:"
   ]
  },
  {
   "cell_type": "code",
   "execution_count": 14,
   "id": "e70c47ff-e7ac-4c0c-96be-91600286d232",
   "metadata": {},
   "outputs": [
    {
     "name": "stdout",
     "output_type": "stream",
     "text": [
      "model:Random Forest \n",
      "Accuracy:0.755\n",
      "Precision:0.6153846153846154\n",
      "Recall:0.41379310344827586\n",
      "F1:0.4948453608247423\n",
      "ROC-AUC:0.6540796503156872\n",
      "confusion matrix:[[127  15]\n",
      " [ 34  24]]\n",
      "\n",
      "\n",
      "model:Suport Vector Machine\n",
      "Accuracy:0.77\n",
      "Precision:0.65\n",
      "Recall:0.4482758620689655\n",
      "F1:0.5306122448979592\n",
      "ROC-AUC:0.6748421563865955\n",
      "confusion matrix:[[128  14]\n",
      " [ 32  26]]\n",
      "\n",
      "\n",
      "model:Naive Bayes \n",
      "Accuracy:0.685\n",
      "Precision:0.46987951807228917\n",
      "Recall:0.6724137931034483\n",
      "F1:0.5531914893617021\n",
      "ROC-AUC:0.6812773190869355\n",
      "confusion matrix:[[98 44]\n",
      " [19 39]]\n",
      "\n",
      "\n"
     ]
    }
   ],
   "source": [
    "\n",
    "for name, metrics in results.items():\n",
    "    print(f\"model:{name}\")\n",
    "    for metric,value in metrics.items():\n",
    "        print(f\"{metric}:{value}\")\n",
    "    print(\"\\n\")\n"
   ]
  },
  {
   "cell_type": "markdown",
   "id": "1b242dd2-791b-4b12-b414-7a9d86716549",
   "metadata": {},
   "source": [
    "This code iterates through the results dictionary and prints the performance metrics for each model.\n",
    "\n",
    "Results interpretation:\n",
    "Each model has its strengths and weaknesses, which can vary depending on the specific needs of the project:\n",
    "- **Support Vector Machine (SVM):**\n",
    "\n",
    "It has the highest accuracy and a good balance between recall and F1-Score.\n",
    "It would be a good option if the goal is to maximize accuracy while maintaining a good overall balance.\n",
    "- **Random Forest:**\n",
    "\n",
    "It has a good overall balance and slightly higher ROC-AUC.\n",
    "It could be a good option if you value a balance across all metrics.\n",
    "- **Naive Bayes:**\n",
    "\n",
    "It has the best recall, which indicates it identifies more positive cases.\n",
    "It might be the best choice if the goal is to minimize false negatives (maximize recall).\n",
    "\n",
    "\n",
    "\n",
    "Next, we plot the ROC curves for the models that support probability predictions:"
   ]
  },
  {
   "cell_type": "code",
   "execution_count": 15,
   "id": "f9b6b405-d235-4210-bf22-3abe88ce7851",
   "metadata": {},
   "outputs": [
    {
     "data": {
      "image/png": "[encoded data removed]",
      "text/plain": [
       "<Figure size 640x480 with 1 Axes>"
      ]
     },
     "metadata": {},
     "output_type": "display_data"
    }
   ],
   "source": [
    "plt.figure()\n",
    "for name, model in models:\n",
    "    if hasattr(model, 'predict_proba'):\n",
    "        y_proba  = model.predict_proba(X_test)[:,1]\n",
    "        fpr,tpr,_ = roc_curve(y_test, y_proba)\n",
    "        plt.plot(fpr,tpr, label = f'{name} (AUC = {roc_auc_score(y_test,y_proba):0.2f})')\n",
    "\n",
    "\n",
    "plt.plot([0, 1], [0, 1], 'k--')\n",
    "plt.xlabel('False Positive Rate')\n",
    "plt.ylabel('True Positive Rate')\n",
    "plt.title('ROC Curves')\n",
    "plt.legend(loc='best')\n",
    "plt.show()\n",
    "\n",
    "\n"
   ]
  },
  {
   "cell_type": "markdown",
   "id": "a0aa2e15-bce3-4a89-9cb7-08508a76e700",
   "metadata": {},
   "source": [
    "We add a diagonal line for reference, set the labels and title, and display the legend:"
   ]
  },
  {
   "cell_type": "markdown",
   "id": "eed216cc-d8b4-4418-9b28-a2ec85428259",
   "metadata": {},
   "source": [
    "## **Conclusion of the Credit Risk Prediction Project**\n",
    "\n",
    "In this project, we developed and evaluated several classification models to predict credit risk using a specific dataset. We implemented three main models: Random Forest, Support Vector Machine (SVM), and Naive Bayes. Through detailed analysis, we derived the following key conclusions:\n",
    "\n",
    "### **1. Models and Performance Metrics:**\n",
    "   - **Random Forest** demonstrated solid balance across all metrics, particularly excelling in the area under the ROC curve (ROC-AUC). This model is a reliable choice when seeking a general balance in credit risk prediction.\n",
    "   - **Support Vector Machine (SVM)** offered the highest accuracy and a good balance between recall and F1-Score, making it ideal in scenarios where accuracy is paramount without sacrificing too much in other metrics.\n",
    "   - **Naive Bayes** excelled in recall, indicating that it is the best model for correctly identifying positive cases (high credit risk). This model is especially useful if the goal is to minimize false negatives, ensuring that high-risk cases are not misclassified as low risk.\n",
    "\n",
    "### **2. Interpretation of Results:**\n",
    "   - Each model has its strengths and weaknesses, suggesting that model selection should depend on business or project priorities. For instance, if avoiding false negatives is crucial (e.g., a lender not wanting to miss high-risk clients), Naive Bayes would be preferable. If a balanced performance across all aspects is desired, Random Forest is a strong choice.\n",
    "\n",
    "### **3. Visualization and Comparison:**\n",
    "   - The ROC curves allowed us to visualize and compare the models' ability to distinguish between positive and negative cases. This tool is particularly useful for understanding how each model performs in terms of trade-offs between the true positive rate and the false positive rate.\n",
    "\n",
    "## **Final Conclusion:**\n",
    "The project demonstrates that there is no single \"best\" model for all situations. Instead, the optimal model choice depends on the specific objectives of the credit risk analysis. This approach not only provides a comprehensive view of model performance but also enables informed decision-making regarding which model to use based on the specific needs and priorities of the business.\n"
   ]
  },
  {
   "cell_type": "code",
   "execution_count": null,
   "id": "2feddf77-b0d9-4038-94b3-cec0851de6cc",
   "metadata": {},
   "outputs": [],
   "source": []
  }
 ],
 "metadata": {
  "kernelspec": {
   "display_name": "Python 3 (ipykernel)",
   "language": "python",
   "name": "python3"
  },
  "language_info": {
   "codemirror_mode": {
    "name": "ipython",
    "version": 3
   },
   "file_extension": ".py",
   "mimetype": "text/x-python",
   "name": "python",
   "nbconvert_exporter": "python",
   "pygments_lexer": "ipython3",
   "version": "3.11.5"
  }
 },
 "nbformat": 4,
 "nbformat_minor": 5
}
